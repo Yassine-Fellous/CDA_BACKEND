{
 "cells": [
  {
   "cell_type": "markdown",
   "id": "5a092d3e",
   "metadata": {},
   "source": [
    "This python notebook was created to extract specific data from the entire french gouvernement sports database link bellow.\n",
    "\n",
    "https://equipements.sports.gouv.fr/explore/dataset/data-es-inte/export/"
   ]
  },
  {
   "cell_type": "code",
   "execution_count": 3,
   "id": "ec511bb6",
   "metadata": {},
   "outputs": [],
   "source": [
    "\n",
    "import pandas as pd"
   ]
  },
  {
   "cell_type": "code",
   "execution_count": null,
   "id": "c2c1a32a",
   "metadata": {},
   "outputs": [],
   "source": [
    "# load data from a file and print it to the console"
   ]
  }
 ],
 "metadata": {
  "kernelspec": {
   "display_name": "base",
   "language": "python",
   "name": "python3"
  },
  "language_info": {
   "codemirror_mode": {
    "name": "ipython",
    "version": 3
   },
   "file_extension": ".py",
   "mimetype": "text/x-python",
   "name": "python",
   "nbconvert_exporter": "python",
   "pygments_lexer": "ipython3",
   "version": "3.12.7"
  }
 },
 "nbformat": 4,
 "nbformat_minor": 5
}
